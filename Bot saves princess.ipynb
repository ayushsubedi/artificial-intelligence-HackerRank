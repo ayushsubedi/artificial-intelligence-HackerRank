{
 "cells": [
  {
   "cell_type": "markdown",
   "metadata": {},
   "source": [
    "https://www.hackerrank.com/challenges/saveprincess/problem"
   ]
  },
  {
   "cell_type": "code",
   "execution_count": 3,
   "metadata": {},
   "outputs": [
    {
     "name": "stdin",
     "output_type": "stream",
     "text": [
      " 3\n",
      " ---\n",
      " -m-\n",
      " p--\n"
     ]
    },
    {
     "name": "stdout",
     "output_type": "stream",
     "text": [
      "3 ['---', '-m-', 'p--']\n"
     ]
    }
   ],
   "source": [
    "def displayPathtoPrincess(n,grid):\n",
    "    print (n, grid)\n",
    "#print all the moves here\n",
    "\n",
    "m = int(input())\n",
    "grid = [] \n",
    "for i in range(0, m): \n",
    "    grid.append(input().strip())\n",
    "\n",
    "displayPathtoPrincess(m,grid)"
   ]
  },
  {
   "cell_type": "code",
   "execution_count": null,
   "metadata": {},
   "outputs": [],
   "source": []
  }
 ],
 "metadata": {
  "kernelspec": {
   "display_name": "Python 3",
   "language": "python",
   "name": "python3"
  },
  "language_info": {
   "codemirror_mode": {
    "name": "ipython",
    "version": 3
   },
   "file_extension": ".py",
   "mimetype": "text/x-python",
   "name": "python",
   "nbconvert_exporter": "python",
   "pygments_lexer": "ipython3",
   "version": "3.8.5"
  }
 },
 "nbformat": 4,
 "nbformat_minor": 4
}
